{
 "cells": [
  {
   "cell_type": "markdown",
   "id": "002ad136",
   "metadata": {},
   "source": [
    "For each of the following questions, formulate a null and alternative hypothesis (be as specific as you can be), then give an example of what a true positive, true negative, type I and type II errors would look like. Note that some of the questions are intentionally phrased in a vague way. It is your job to reword these as more precise questions that could be tested."
   ]
  },
  {
   "cell_type": "code",
   "execution_count": null,
   "id": "d605ea96",
   "metadata": {},
   "outputs": [],
   "source": []
  },
  {
   "cell_type": "code",
   "execution_count": null,
   "id": "b3cb5909",
   "metadata": {},
   "outputs": [],
   "source": [
    "#Has the network latency gone up since we switched internet service providers?\n"
   ]
  },
  {
   "cell_type": "markdown",
   "id": "836fd664",
   "metadata": {},
   "source": [
    "H0 = latency is <= overall average\n",
    "Ha = latency is > than overall average\n",
    "False P = internet outage for Company 1\n",
    "false N = internet outage for company 2"
   ]
  },
  {
   "cell_type": "code",
   "execution_count": null,
   "id": "dd19f9d6",
   "metadata": {},
   "outputs": [],
   "source": []
  },
  {
   "cell_type": "code",
   "execution_count": null,
   "id": "774ea1de",
   "metadata": {},
   "outputs": [],
   "source": [
    "#Is the website redesign any good?"
   ]
  },
  {
   "cell_type": "markdown",
   "id": "3ef00884",
   "metadata": {},
   "source": [
    "null hypothesis- the web traffic in the website is the same or lower than the overall average website traffic \n",
    "\n",
    "alternative hypo- the traffic after the redighn is much higher \n",
    "\n",
    "TP- number of web traffic was higher \n",
    "\n",
    "FP-the website crashed and the numbers got skewed higher than average \n",
    "\n",
    "TN- there was not any higher website traffic even with the redeshign\n",
    "\n",
    "FN-the website crashed \n",
    "\n"
   ]
  },
  {
   "cell_type": "code",
   "execution_count": null,
   "id": "9c3d0cc0",
   "metadata": {},
   "outputs": [],
   "source": [
    "#Is our television ad driving more sales? #we added superbowl as a factor to the question"
   ]
  },
  {
   "cell_type": "markdown",
   "id": "f42f7b03",
   "metadata": {},
   "source": [
    "null hypothesis-number of \"average sales\" from the ad that was introduced during the super bowl are the same or lower\n",
    "alternative hypothesis-the \"average number\" of sales from the ad that was introduced during the super bowl are higher\n",
    "true positive- sales revenue show that the profits increased during the super bowl\n",
    "false positive- the item from the TV ad was also gaining revenue from adds on facebook\n",
    "true negative- sales stayed the same even with the super bowl ad\n",
    "false negative- the amount of viewers for the super bowl this year was the lowest eve"
   ]
  },
  {
   "cell_type": "code",
   "execution_count": null,
   "id": "8bdd70fa",
   "metadata": {},
   "outputs": [],
   "source": []
  }
 ],
 "metadata": {
  "kernelspec": {
   "display_name": "Python 3 (ipykernel)",
   "language": "python",
   "name": "python3"
  },
  "language_info": {
   "codemirror_mode": {
    "name": "ipython",
    "version": 3
   },
   "file_extension": ".py",
   "mimetype": "text/x-python",
   "name": "python",
   "nbconvert_exporter": "python",
   "pygments_lexer": "ipython3",
   "version": "3.9.12"
  }
 },
 "nbformat": 4,
 "nbformat_minor": 5
}
