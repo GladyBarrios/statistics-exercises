{
 "cells": [
  {
   "cell_type": "code",
   "execution_count": 2,
   "id": "62b1cdfb",
   "metadata": {},
   "outputs": [],
   "source": [
    "import numpy as np\n",
    "import pandas as pd"
   ]
  },
  {
   "cell_type": "markdown",
   "id": "b4352ebe",
   "metadata": {},
   "source": [
    "1) How likely is it that you roll doubles when rolling two dice?"
   ]
  },
  {
   "cell_type": "code",
   "execution_count": 5,
   "id": "ae1303f0",
   "metadata": {},
   "outputs": [
    {
     "data": {
      "text/plain": [
       "array([[2, 3],\n",
       "       [2, 1],\n",
       "       [2, 3],\n",
       "       ...,\n",
       "       [5, 2],\n",
       "       [4, 4],\n",
       "       [3, 1]])"
      ]
     },
     "execution_count": 5,
     "metadata": {},
     "output_type": "execute_result"
    }
   ],
   "source": [
    "n_trials = nrows = 10_000\n",
    "n_dice = ncols = 2\n",
    "#then we need to use random choice\n",
    "\n",
    "#this was my example:\n",
    "#rolls = np.random.choice([1, 2, 3, 4, 5, 6], n_trials * n_dice).reshape(nrows, ncols)\n",
    "#rolls\n",
    "\n",
    "\n",
    "rolls = np.random.choice([1,2,3,4,5,6], size = (10_000, 2))\n",
    "rolls"
   ]
  },
  {
   "cell_type": "code",
   "execution_count": 6,
   "id": "1d6f20c6",
   "metadata": {
    "scrolled": true
   },
   "outputs": [
    {
     "data": {
      "text/html": [
       "<div>\n",
       "<style scoped>\n",
       "    .dataframe tbody tr th:only-of-type {\n",
       "        vertical-align: middle;\n",
       "    }\n",
       "\n",
       "    .dataframe tbody tr th {\n",
       "        vertical-align: top;\n",
       "    }\n",
       "\n",
       "    .dataframe thead th {\n",
       "        text-align: right;\n",
       "    }\n",
       "</style>\n",
       "<table border=\"1\" class=\"dataframe\">\n",
       "  <thead>\n",
       "    <tr style=\"text-align: right;\">\n",
       "      <th></th>\n",
       "      <th>0</th>\n",
       "      <th>1</th>\n",
       "    </tr>\n",
       "  </thead>\n",
       "  <tbody>\n",
       "    <tr>\n",
       "      <th>0</th>\n",
       "      <td>2</td>\n",
       "      <td>3</td>\n",
       "    </tr>\n",
       "    <tr>\n",
       "      <th>1</th>\n",
       "      <td>2</td>\n",
       "      <td>1</td>\n",
       "    </tr>\n",
       "    <tr>\n",
       "      <th>2</th>\n",
       "      <td>2</td>\n",
       "      <td>3</td>\n",
       "    </tr>\n",
       "    <tr>\n",
       "      <th>3</th>\n",
       "      <td>5</td>\n",
       "      <td>3</td>\n",
       "    </tr>\n",
       "    <tr>\n",
       "      <th>4</th>\n",
       "      <td>6</td>\n",
       "      <td>3</td>\n",
       "    </tr>\n",
       "    <tr>\n",
       "      <th>...</th>\n",
       "      <td>...</td>\n",
       "      <td>...</td>\n",
       "    </tr>\n",
       "    <tr>\n",
       "      <th>9995</th>\n",
       "      <td>2</td>\n",
       "      <td>6</td>\n",
       "    </tr>\n",
       "    <tr>\n",
       "      <th>9996</th>\n",
       "      <td>2</td>\n",
       "      <td>2</td>\n",
       "    </tr>\n",
       "    <tr>\n",
       "      <th>9997</th>\n",
       "      <td>5</td>\n",
       "      <td>2</td>\n",
       "    </tr>\n",
       "    <tr>\n",
       "      <th>9998</th>\n",
       "      <td>4</td>\n",
       "      <td>4</td>\n",
       "    </tr>\n",
       "    <tr>\n",
       "      <th>9999</th>\n",
       "      <td>3</td>\n",
       "      <td>1</td>\n",
       "    </tr>\n",
       "  </tbody>\n",
       "</table>\n",
       "<p>10000 rows × 2 columns</p>\n",
       "</div>"
      ],
      "text/plain": [
       "      0  1\n",
       "0     2  3\n",
       "1     2  1\n",
       "2     2  3\n",
       "3     5  3\n",
       "4     6  3\n",
       "...  .. ..\n",
       "9995  2  6\n",
       "9996  2  2\n",
       "9997  5  2\n",
       "9998  4  4\n",
       "9999  3  1\n",
       "\n",
       "[10000 rows x 2 columns]"
      ]
     },
     "execution_count": 6,
     "metadata": {},
     "output_type": "execute_result"
    }
   ],
   "source": [
    "dice_rolls_2 = pd.DataFrame(rolls)\n",
    "dice_rolls_2"
   ]
  },
  {
   "cell_type": "code",
   "execution_count": 7,
   "id": "26823179",
   "metadata": {},
   "outputs": [
    {
     "data": {
      "text/plain": [
       "0       False\n",
       "1       False\n",
       "2       False\n",
       "3       False\n",
       "4       False\n",
       "        ...  \n",
       "9995    False\n",
       "9996     True\n",
       "9997    False\n",
       "9998     True\n",
       "9999    False\n",
       "Length: 10000, dtype: bool"
      ]
     },
     "execution_count": 7,
     "metadata": {},
     "output_type": "execute_result"
    }
   ],
   "source": [
    "doubles = dice_rolls_2[0] == dice_rolls_2[1]\n",
    "doubles"
   ]
  },
  {
   "cell_type": "code",
   "execution_count": 8,
   "id": "50733c88",
   "metadata": {},
   "outputs": [
    {
     "data": {
      "text/plain": [
       "0.1666"
      ]
     },
     "execution_count": 8,
     "metadata": {},
     "output_type": "execute_result"
    }
   ],
   "source": [
    "probably_doubles = doubles.mean()\n",
    "probably_doubles"
   ]
  },
  {
   "cell_type": "code",
   "execution_count": null,
   "id": "eecfbdc7",
   "metadata": {},
   "outputs": [],
   "source": []
  },
  {
   "cell_type": "markdown",
   "id": "ce1b868b",
   "metadata": {},
   "source": [
    "2) If you flip 8 coins, what is the probability of getting exactly 3 heads? What is the probability of getting more than 3 heads?"
   ]
  },
  {
   "cell_type": "code",
   "execution_count": 12,
   "id": "20907057",
   "metadata": {},
   "outputs": [
    {
     "data": {
      "text/plain": [
       "array([[1, 2, 2, ..., 1, 2, 2],\n",
       "       [2, 1, 2, ..., 1, 2, 2],\n",
       "       [2, 2, 1, ..., 1, 2, 1],\n",
       "       ...,\n",
       "       [2, 2, 2, ..., 2, 2, 1],\n",
       "       [2, 1, 2, ..., 2, 2, 1],\n",
       "       [1, 1, 1, ..., 1, 1, 1]])"
      ]
     },
     "execution_count": 12,
     "metadata": {},
     "output_type": "execute_result"
    }
   ],
   "source": [
    "n_trials = 8\n",
    "n_sims = 10000\n",
    "#im making 1 = head and 2 = tails\n",
    "\n",
    "#flips = np.random.choice([1,2], n_trials * n_sims).reshape(n_sims, n_trials)\n",
    "#flips\n",
    "\n",
    "flips = np.random.choice([1,2], size = (n_sims, n_trials))\n",
    "flips"
   ]
  },
  {
   "cell_type": "code",
   "execution_count": 13,
   "id": "a96e2cd2",
   "metadata": {
    "scrolled": true
   },
   "outputs": [
    {
     "data": {
      "text/html": [
       "<div>\n",
       "<style scoped>\n",
       "    .dataframe tbody tr th:only-of-type {\n",
       "        vertical-align: middle;\n",
       "    }\n",
       "\n",
       "    .dataframe tbody tr th {\n",
       "        vertical-align: top;\n",
       "    }\n",
       "\n",
       "    .dataframe thead th {\n",
       "        text-align: right;\n",
       "    }\n",
       "</style>\n",
       "<table border=\"1\" class=\"dataframe\">\n",
       "  <thead>\n",
       "    <tr style=\"text-align: right;\">\n",
       "      <th></th>\n",
       "      <th>0</th>\n",
       "      <th>1</th>\n",
       "      <th>2</th>\n",
       "      <th>3</th>\n",
       "      <th>4</th>\n",
       "      <th>5</th>\n",
       "      <th>6</th>\n",
       "      <th>7</th>\n",
       "    </tr>\n",
       "  </thead>\n",
       "  <tbody>\n",
       "    <tr>\n",
       "      <th>0</th>\n",
       "      <td>1</td>\n",
       "      <td>2</td>\n",
       "      <td>2</td>\n",
       "      <td>1</td>\n",
       "      <td>2</td>\n",
       "      <td>1</td>\n",
       "      <td>2</td>\n",
       "      <td>2</td>\n",
       "    </tr>\n",
       "    <tr>\n",
       "      <th>1</th>\n",
       "      <td>2</td>\n",
       "      <td>1</td>\n",
       "      <td>2</td>\n",
       "      <td>2</td>\n",
       "      <td>2</td>\n",
       "      <td>1</td>\n",
       "      <td>2</td>\n",
       "      <td>2</td>\n",
       "    </tr>\n",
       "    <tr>\n",
       "      <th>2</th>\n",
       "      <td>2</td>\n",
       "      <td>2</td>\n",
       "      <td>1</td>\n",
       "      <td>1</td>\n",
       "      <td>2</td>\n",
       "      <td>1</td>\n",
       "      <td>2</td>\n",
       "      <td>1</td>\n",
       "    </tr>\n",
       "    <tr>\n",
       "      <th>3</th>\n",
       "      <td>2</td>\n",
       "      <td>1</td>\n",
       "      <td>2</td>\n",
       "      <td>2</td>\n",
       "      <td>1</td>\n",
       "      <td>2</td>\n",
       "      <td>1</td>\n",
       "      <td>2</td>\n",
       "    </tr>\n",
       "    <tr>\n",
       "      <th>4</th>\n",
       "      <td>1</td>\n",
       "      <td>1</td>\n",
       "      <td>2</td>\n",
       "      <td>2</td>\n",
       "      <td>2</td>\n",
       "      <td>1</td>\n",
       "      <td>2</td>\n",
       "      <td>1</td>\n",
       "    </tr>\n",
       "    <tr>\n",
       "      <th>...</th>\n",
       "      <td>...</td>\n",
       "      <td>...</td>\n",
       "      <td>...</td>\n",
       "      <td>...</td>\n",
       "      <td>...</td>\n",
       "      <td>...</td>\n",
       "      <td>...</td>\n",
       "      <td>...</td>\n",
       "    </tr>\n",
       "    <tr>\n",
       "      <th>9995</th>\n",
       "      <td>2</td>\n",
       "      <td>2</td>\n",
       "      <td>2</td>\n",
       "      <td>1</td>\n",
       "      <td>1</td>\n",
       "      <td>2</td>\n",
       "      <td>1</td>\n",
       "      <td>2</td>\n",
       "    </tr>\n",
       "    <tr>\n",
       "      <th>9996</th>\n",
       "      <td>1</td>\n",
       "      <td>1</td>\n",
       "      <td>2</td>\n",
       "      <td>1</td>\n",
       "      <td>1</td>\n",
       "      <td>2</td>\n",
       "      <td>1</td>\n",
       "      <td>2</td>\n",
       "    </tr>\n",
       "    <tr>\n",
       "      <th>9997</th>\n",
       "      <td>2</td>\n",
       "      <td>2</td>\n",
       "      <td>2</td>\n",
       "      <td>2</td>\n",
       "      <td>2</td>\n",
       "      <td>2</td>\n",
       "      <td>2</td>\n",
       "      <td>1</td>\n",
       "    </tr>\n",
       "    <tr>\n",
       "      <th>9998</th>\n",
       "      <td>2</td>\n",
       "      <td>1</td>\n",
       "      <td>2</td>\n",
       "      <td>2</td>\n",
       "      <td>1</td>\n",
       "      <td>2</td>\n",
       "      <td>2</td>\n",
       "      <td>1</td>\n",
       "    </tr>\n",
       "    <tr>\n",
       "      <th>9999</th>\n",
       "      <td>1</td>\n",
       "      <td>1</td>\n",
       "      <td>1</td>\n",
       "      <td>2</td>\n",
       "      <td>1</td>\n",
       "      <td>1</td>\n",
       "      <td>1</td>\n",
       "      <td>1</td>\n",
       "    </tr>\n",
       "  </tbody>\n",
       "</table>\n",
       "<p>10000 rows × 8 columns</p>\n",
       "</div>"
      ],
      "text/plain": [
       "      0  1  2  3  4  5  6  7\n",
       "0     1  2  2  1  2  1  2  2\n",
       "1     2  1  2  2  2  1  2  2\n",
       "2     2  2  1  1  2  1  2  1\n",
       "3     2  1  2  2  1  2  1  2\n",
       "4     1  1  2  2  2  1  2  1\n",
       "...  .. .. .. .. .. .. .. ..\n",
       "9995  2  2  2  1  1  2  1  2\n",
       "9996  1  1  2  1  1  2  1  2\n",
       "9997  2  2  2  2  2  2  2  1\n",
       "9998  2  1  2  2  1  2  2  1\n",
       "9999  1  1  1  2  1  1  1  1\n",
       "\n",
       "[10000 rows x 8 columns]"
      ]
     },
     "execution_count": 13,
     "metadata": {},
     "output_type": "execute_result"
    }
   ],
   "source": [
    "flips2=pd.DataFrame(flips)\n",
    "flips2"
   ]
  },
  {
   "cell_type": "code",
   "execution_count": null,
   "id": "3fa82b25",
   "metadata": {},
   "outputs": [],
   "source": []
  },
  {
   "cell_type": "code",
   "execution_count": 29,
   "id": "e5687bfb",
   "metadata": {},
   "outputs": [
    {
     "data": {
      "text/plain": [
       "array([False, False,  True, ..., False,  True, False])"
      ]
     },
     "execution_count": 29,
     "metadata": {},
     "output_type": "execute_result"
    }
   ],
   "source": [
    "same_3_flips = (flips == 1).sum(axis=1) == 3\n",
    "same_3_flips"
   ]
  },
  {
   "cell_type": "code",
   "execution_count": 30,
   "id": "ca088c49",
   "metadata": {},
   "outputs": [
    {
     "data": {
      "text/plain": [
       "0.221"
      ]
     },
     "execution_count": 30,
     "metadata": {},
     "output_type": "execute_result"
    }
   ],
   "source": [
    "same_3_flips.mean()"
   ]
  },
  {
   "cell_type": "code",
   "execution_count": 32,
   "id": "9b6fec77",
   "metadata": {},
   "outputs": [
    {
     "data": {
      "text/plain": [
       "array([ True,  True, False, ..., False, False, False])"
      ]
     },
     "execution_count": 32,
     "metadata": {},
     "output_type": "execute_result"
    }
   ],
   "source": [
    "greater_than_3 = (flips == 1).sum(axis=1) >3\n",
    "greater_than_3"
   ]
  },
  {
   "cell_type": "code",
   "execution_count": 33,
   "id": "e18e8137",
   "metadata": {},
   "outputs": [
    {
     "data": {
      "text/plain": [
       "0.6384"
      ]
     },
     "execution_count": 33,
     "metadata": {},
     "output_type": "execute_result"
    }
   ],
   "source": [
    "greater_than_3.mean()"
   ]
  },
  {
   "cell_type": "markdown",
   "id": "92d45ffe",
   "metadata": {},
   "source": [
    "There are approximitely 3 web development cohorts for every 1 data science cohort at Codeup.\n",
    "\n",
    "Assuming that Codeup randomly selects an alumni to put on a billboard, what are the odds that the two billboards \n",
    "I drive past both have data science students on them?"
   ]
  },
  {
   "cell_type": "code",
   "execution_count": 3,
   "id": "2b7052cc",
   "metadata": {},
   "outputs": [],
   "source": [
    "n_trials = 2\n",
    "n_sims = 10_000\n",
    "\n",
    "# WD = 0 , DS = 1 \n",
    "\n",
    "billboard =np.random.choice([0,1], size = (n_sims, n_trials), p= [0.75, 0.25])\n"
   ]
  },
  {
   "cell_type": "code",
   "execution_count": 4,
   "id": "05c0ef9f",
   "metadata": {},
   "outputs": [
    {
     "data": {
      "text/html": [
       "<div>\n",
       "<style scoped>\n",
       "    .dataframe tbody tr th:only-of-type {\n",
       "        vertical-align: middle;\n",
       "    }\n",
       "\n",
       "    .dataframe tbody tr th {\n",
       "        vertical-align: top;\n",
       "    }\n",
       "\n",
       "    .dataframe thead th {\n",
       "        text-align: right;\n",
       "    }\n",
       "</style>\n",
       "<table border=\"1\" class=\"dataframe\">\n",
       "  <thead>\n",
       "    <tr style=\"text-align: right;\">\n",
       "      <th></th>\n",
       "      <th>first_billb</th>\n",
       "      <th>second_billb</th>\n",
       "    </tr>\n",
       "  </thead>\n",
       "  <tbody>\n",
       "    <tr>\n",
       "      <th>0</th>\n",
       "      <td>1</td>\n",
       "      <td>0</td>\n",
       "    </tr>\n",
       "    <tr>\n",
       "      <th>1</th>\n",
       "      <td>0</td>\n",
       "      <td>0</td>\n",
       "    </tr>\n",
       "    <tr>\n",
       "      <th>2</th>\n",
       "      <td>1</td>\n",
       "      <td>0</td>\n",
       "    </tr>\n",
       "    <tr>\n",
       "      <th>3</th>\n",
       "      <td>1</td>\n",
       "      <td>0</td>\n",
       "    </tr>\n",
       "    <tr>\n",
       "      <th>4</th>\n",
       "      <td>1</td>\n",
       "      <td>0</td>\n",
       "    </tr>\n",
       "    <tr>\n",
       "      <th>...</th>\n",
       "      <td>...</td>\n",
       "      <td>...</td>\n",
       "    </tr>\n",
       "    <tr>\n",
       "      <th>9995</th>\n",
       "      <td>0</td>\n",
       "      <td>0</td>\n",
       "    </tr>\n",
       "    <tr>\n",
       "      <th>9996</th>\n",
       "      <td>1</td>\n",
       "      <td>1</td>\n",
       "    </tr>\n",
       "    <tr>\n",
       "      <th>9997</th>\n",
       "      <td>0</td>\n",
       "      <td>0</td>\n",
       "    </tr>\n",
       "    <tr>\n",
       "      <th>9998</th>\n",
       "      <td>0</td>\n",
       "      <td>0</td>\n",
       "    </tr>\n",
       "    <tr>\n",
       "      <th>9999</th>\n",
       "      <td>1</td>\n",
       "      <td>0</td>\n",
       "    </tr>\n",
       "  </tbody>\n",
       "</table>\n",
       "<p>10000 rows × 2 columns</p>\n",
       "</div>"
      ],
      "text/plain": [
       "      first_billb  second_billb\n",
       "0               1             0\n",
       "1               0             0\n",
       "2               1             0\n",
       "3               1             0\n",
       "4               1             0\n",
       "...           ...           ...\n",
       "9995            0             0\n",
       "9996            1             1\n",
       "9997            0             0\n",
       "9998            0             0\n",
       "9999            1             0\n",
       "\n",
       "[10000 rows x 2 columns]"
      ]
     },
     "execution_count": 4,
     "metadata": {},
     "output_type": "execute_result"
    }
   ],
   "source": [
    "billboard2 = pd.DataFrame(billboard)\n",
    "billboard2.columns = [\"first_billb\", \"second_billb\"]\n",
    "billboard2"
   ]
  },
  {
   "cell_type": "code",
   "execution_count": 7,
   "id": "5a379722",
   "metadata": {},
   "outputs": [],
   "source": [
    "both_data_sci = (billboard.sum(axis = 1) ==2)\n",
    "\n",
    "#notes: the 2 is by adding the rows because a 2 would equal two DS bb's "
   ]
  },
  {
   "cell_type": "code",
   "execution_count": 8,
   "id": "27bf0e6c",
   "metadata": {},
   "outputs": [
    {
     "data": {
      "text/plain": [
       "0.0635"
      ]
     },
     "execution_count": 8,
     "metadata": {},
     "output_type": "execute_result"
    }
   ],
   "source": [
    "both_data_sci.mean()"
   ]
  },
  {
   "cell_type": "markdown",
   "id": "0a50830c",
   "metadata": {},
   "source": [
    "Codeup students buy, on average, 3 poptart packages with a standard deviation of 1.5 a day from the snack vending machine. If on monday the machine is restocked with 17 poptart packages, how likely is it that I will be able to buy some poptarts on Friday afternoon? (Remember, if you have mean and standard deviation, use the np.random.normal) You'll need to make a judgement call on how to handle some of your values"
   ]
  },
  {
   "cell_type": "code",
   "execution_count": 10,
   "id": "2fb03c00",
   "metadata": {},
   "outputs": [
    {
     "data": {
      "text/plain": [
       "array([[ 3.,  2.,  2.,  2.,  3.],\n",
       "       [ 2.,  3.,  6.,  5.,  4.],\n",
       "       [ 3.,  3.,  3.,  3.,  2.],\n",
       "       ...,\n",
       "       [ 3.,  2.,  1.,  5.,  2.],\n",
       "       [ 4.,  5.,  3.,  6.,  4.],\n",
       "       [ 5.,  3.,  4.,  6., -0.]])"
      ]
     },
     "execution_count": 10,
     "metadata": {},
     "output_type": "execute_result"
    }
   ],
   "source": [
    "n_trials = 5 #becasue of a reg. school week is 5 days \n",
    "n_sims = 10_000\n",
    "\n",
    "#np.random.normal(average, STD, size = ())\n",
    "\n",
    "\n",
    "poptarts = np.random.normal(3,1.5, size = (n_sims, n_trials))\n",
    "rounded_pop = poptarts.round()\n",
    "rounded_pop"
   ]
  },
  {
   "cell_type": "code",
   "execution_count": 11,
   "id": "32463a9c",
   "metadata": {},
   "outputs": [
    {
     "data": {
      "text/plain": [
       "array([ True, False,  True, ...,  True, False, False])"
      ]
     },
     "execution_count": 11,
     "metadata": {},
     "output_type": "execute_result"
    }
   ],
   "source": [
    "poptarts_on_friday = rounded_pop.sum(axis=1) < 17\n",
    "poptarts_on_friday"
   ]
  },
  {
   "cell_type": "code",
   "execution_count": 12,
   "id": "a7c5374c",
   "metadata": {},
   "outputs": [
    {
     "data": {
      "text/plain": [
       "0.6697"
      ]
     },
     "execution_count": 12,
     "metadata": {},
     "output_type": "execute_result"
    }
   ],
   "source": [
    "poptarts_on_friday.mean()"
   ]
  },
  {
   "cell_type": "markdown",
   "id": "a8a46214",
   "metadata": {},
   "source": [
    "Compare hights "
   ]
  },
  {
   "cell_type": "markdown",
   "id": "4124fc5c",
   "metadata": {},
   "source": [
    "a)Men have an average height of 178 cm and standard deviation of 8cm.\n",
    "\n",
    "b)Women have a mean of 170, sd = 6cm.\n",
    "\n",
    "c)Since you have means and standard deviations, you can use np.random.normal to generate observations.\n",
    "If a man and woman are chosen at random, what is the likelihood the woman is taller than the man?"
   ]
  },
  {
   "cell_type": "code",
   "execution_count": 13,
   "id": "e41c8575",
   "metadata": {},
   "outputs": [
    {
     "data": {
      "text/plain": [
       "array([176.04647419, 180.29266094, 181.37608295, ..., 172.71842211,\n",
       "       186.19749756, 182.21953861])"
      ]
     },
     "execution_count": 13,
     "metadata": {},
     "output_type": "execute_result"
    }
   ],
   "source": [
    "\n",
    "men = np.random.normal(178,8, size = 10_000)\n",
    "men"
   ]
  },
  {
   "cell_type": "code",
   "execution_count": 14,
   "id": "f5d416e7",
   "metadata": {},
   "outputs": [
    {
     "data": {
      "text/plain": [
       "array([154.13869845, 178.1962198 , 174.65310536, ..., 164.42447133,\n",
       "       166.66754384, 179.69683581])"
      ]
     },
     "execution_count": 14,
     "metadata": {},
     "output_type": "execute_result"
    }
   ],
   "source": [
    "Women = np.random.normal(170,6, size = 10_000)\n",
    "Women"
   ]
  },
  {
   "cell_type": "code",
   "execution_count": 15,
   "id": "e7498117",
   "metadata": {},
   "outputs": [
    {
     "data": {
      "text/html": [
       "<div>\n",
       "<style scoped>\n",
       "    .dataframe tbody tr th:only-of-type {\n",
       "        vertical-align: middle;\n",
       "    }\n",
       "\n",
       "    .dataframe tbody tr th {\n",
       "        vertical-align: top;\n",
       "    }\n",
       "\n",
       "    .dataframe thead th {\n",
       "        text-align: right;\n",
       "    }\n",
       "</style>\n",
       "<table border=\"1\" class=\"dataframe\">\n",
       "  <thead>\n",
       "    <tr style=\"text-align: right;\">\n",
       "      <th></th>\n",
       "      <th>Men_avg</th>\n",
       "      <th>Women_avg</th>\n",
       "    </tr>\n",
       "  </thead>\n",
       "  <tbody>\n",
       "    <tr>\n",
       "      <th>0</th>\n",
       "      <td>176.046474</td>\n",
       "      <td>154.138698</td>\n",
       "    </tr>\n",
       "    <tr>\n",
       "      <th>1</th>\n",
       "      <td>180.292661</td>\n",
       "      <td>178.196220</td>\n",
       "    </tr>\n",
       "    <tr>\n",
       "      <th>2</th>\n",
       "      <td>181.376083</td>\n",
       "      <td>174.653105</td>\n",
       "    </tr>\n",
       "    <tr>\n",
       "      <th>3</th>\n",
       "      <td>181.297956</td>\n",
       "      <td>172.285968</td>\n",
       "    </tr>\n",
       "    <tr>\n",
       "      <th>4</th>\n",
       "      <td>179.855720</td>\n",
       "      <td>172.384979</td>\n",
       "    </tr>\n",
       "    <tr>\n",
       "      <th>...</th>\n",
       "      <td>...</td>\n",
       "      <td>...</td>\n",
       "    </tr>\n",
       "    <tr>\n",
       "      <th>9995</th>\n",
       "      <td>169.219484</td>\n",
       "      <td>164.630466</td>\n",
       "    </tr>\n",
       "    <tr>\n",
       "      <th>9996</th>\n",
       "      <td>190.404575</td>\n",
       "      <td>163.274703</td>\n",
       "    </tr>\n",
       "    <tr>\n",
       "      <th>9997</th>\n",
       "      <td>172.718422</td>\n",
       "      <td>164.424471</td>\n",
       "    </tr>\n",
       "    <tr>\n",
       "      <th>9998</th>\n",
       "      <td>186.197498</td>\n",
       "      <td>166.667544</td>\n",
       "    </tr>\n",
       "    <tr>\n",
       "      <th>9999</th>\n",
       "      <td>182.219539</td>\n",
       "      <td>179.696836</td>\n",
       "    </tr>\n",
       "  </tbody>\n",
       "</table>\n",
       "<p>10000 rows × 2 columns</p>\n",
       "</div>"
      ],
      "text/plain": [
       "         Men_avg   Women_avg\n",
       "0     176.046474  154.138698\n",
       "1     180.292661  178.196220\n",
       "2     181.376083  174.653105\n",
       "3     181.297956  172.285968\n",
       "4     179.855720  172.384979\n",
       "...          ...         ...\n",
       "9995  169.219484  164.630466\n",
       "9996  190.404575  163.274703\n",
       "9997  172.718422  164.424471\n",
       "9998  186.197498  166.667544\n",
       "9999  182.219539  179.696836\n",
       "\n",
       "[10000 rows x 2 columns]"
      ]
     },
     "execution_count": 15,
     "metadata": {},
     "output_type": "execute_result"
    }
   ],
   "source": [
    "Overall_height = pd.DataFrame({\"Men_avg\":men, \"Women_avg\":Women})\n",
    "Overall_height"
   ]
  },
  {
   "cell_type": "code",
   "execution_count": 17,
   "id": "c43e5b54",
   "metadata": {},
   "outputs": [
    {
     "data": {
      "text/plain": [
       "0       False\n",
       "1       False\n",
       "2       False\n",
       "3       False\n",
       "4       False\n",
       "        ...  \n",
       "9995    False\n",
       "9996    False\n",
       "9997    False\n",
       "9998    False\n",
       "9999    False\n",
       "Length: 10000, dtype: bool"
      ]
     },
     "execution_count": 17,
     "metadata": {},
     "output_type": "execute_result"
    }
   ],
   "source": [
    "Height_women_taller = Overall_height.Women_avg > Overall_height.Men_avg\n",
    "\n",
    "Height_women_taller"
   ]
  },
  {
   "cell_type": "code",
   "execution_count": 18,
   "id": "ff16f7ff",
   "metadata": {},
   "outputs": [
    {
     "data": {
      "text/plain": [
       "0.2105"
      ]
     },
     "execution_count": 18,
     "metadata": {},
     "output_type": "execute_result"
    }
   ],
   "source": [
    "Height_women_taller.mean()"
   ]
  },
  {
   "cell_type": "markdown",
   "id": "9c22a8a3",
   "metadata": {},
   "source": [
    "When installing anaconda on a student's computer, there's a 1 in 250 chance that the download is corrupted and the installation fails. What are the odds that after having 50 students download anaconda, no one has an installation issue? 100 students?\n",
    " \n",
    " \n",
    "What is the probability that we observe an installation issue within the first 150 students that download anaconda?\n",
    "\n",
    "\n",
    "\n",
    "How likely is it that 450 students all download anaconda without an issue?"
   ]
  },
  {
   "cell_type": "code",
   "execution_count": 23,
   "id": "7fa67aad",
   "metadata": {},
   "outputs": [
    {
     "data": {
      "text/plain": [
       "array([[0, 1, 0, ..., 0, 0, 0],\n",
       "       [0, 0, 0, ..., 0, 0, 0],\n",
       "       [0, 0, 0, ..., 0, 0, 0],\n",
       "       ...,\n",
       "       [0, 0, 0, ..., 0, 0, 0],\n",
       "       [0, 0, 0, ..., 0, 0, 0],\n",
       "       [0, 0, 0, ..., 0, 0, 0]])"
      ]
     },
     "execution_count": 23,
     "metadata": {},
     "output_type": "execute_result"
    }
   ],
   "source": [
    "#0 = no issue, 1= issues \n",
    "\n",
    "install = np.random.choice([0,1], size = (10_000 , 50), p = [249/250, 1/250])\n",
    "install\n",
    "    "
   ]
  },
  {
   "cell_type": "code",
   "execution_count": 26,
   "id": "93440736",
   "metadata": {},
   "outputs": [],
   "source": [
    "no_issues = install.sum(axis=1) == 0"
   ]
  },
  {
   "cell_type": "code",
   "execution_count": 27,
   "id": "6c05e41a",
   "metadata": {},
   "outputs": [
    {
     "data": {
      "text/plain": [
       "0.8212"
      ]
     },
     "execution_count": 27,
     "metadata": {},
     "output_type": "execute_result"
    }
   ],
   "source": [
    "#no issues for 50 students \n",
    "no_issues.mean()"
   ]
  },
  {
   "cell_type": "code",
   "execution_count": 28,
   "id": "18c583dd",
   "metadata": {},
   "outputs": [
    {
     "data": {
      "text/plain": [
       "array([[0, 0, 0, ..., 0, 0, 0],\n",
       "       [0, 0, 0, ..., 0, 0, 0],\n",
       "       [0, 0, 0, ..., 0, 0, 0],\n",
       "       ...,\n",
       "       [0, 0, 0, ..., 0, 0, 0],\n",
       "       [0, 0, 0, ..., 0, 0, 0],\n",
       "       [0, 0, 0, ..., 0, 0, 0]])"
      ]
     },
     "execution_count": 28,
     "metadata": {},
     "output_type": "execute_result"
    }
   ],
   "source": [
    "install_100 = np.random.choice([0,1], size = (10_000 , 100), p = [249/250, 1/250])\n",
    "install_100"
   ]
  },
  {
   "cell_type": "code",
   "execution_count": 30,
   "id": "66e6082d",
   "metadata": {},
   "outputs": [
    {
     "data": {
      "text/plain": [
       "array([ True,  True, False, ...,  True,  True,  True])"
      ]
     },
     "execution_count": 30,
     "metadata": {},
     "output_type": "execute_result"
    }
   ],
   "source": [
    "no_issues1 = (install_100.sum(axis=1) == 0)\n",
    "no_issues1"
   ]
  },
  {
   "cell_type": "code",
   "execution_count": 31,
   "id": "2b65d7c9",
   "metadata": {},
   "outputs": [
    {
     "data": {
      "text/plain": [
       "0.6782"
      ]
     },
     "execution_count": 31,
     "metadata": {},
     "output_type": "execute_result"
    }
   ],
   "source": [
    "#no issues for 100 students \n",
    "no_issues1.mean()"
   ]
  },
  {
   "cell_type": "code",
   "execution_count": 32,
   "id": "4f89c97b",
   "metadata": {},
   "outputs": [
    {
     "data": {
      "text/plain": [
       "array([[0, 0, 0, ..., 0, 0, 0],\n",
       "       [0, 0, 0, ..., 0, 0, 0],\n",
       "       [0, 0, 0, ..., 0, 0, 0],\n",
       "       ...,\n",
       "       [0, 0, 0, ..., 0, 0, 0],\n",
       "       [0, 0, 0, ..., 0, 0, 0],\n",
       "       [0, 0, 0, ..., 0, 0, 0]])"
      ]
     },
     "execution_count": 32,
     "metadata": {},
     "output_type": "execute_result"
    }
   ],
   "source": [
    "install_150 = np.random.choice([0,1], size = (10_000 , 150), p = [249/250, 1/250])\n",
    "install_150"
   ]
  },
  {
   "cell_type": "code",
   "execution_count": 34,
   "id": "49142263",
   "metadata": {},
   "outputs": [
    {
     "data": {
      "text/plain": [
       "array([ True, False, False, ...,  True,  True, False])"
      ]
     },
     "execution_count": 34,
     "metadata": {},
     "output_type": "execute_result"
    }
   ],
   "source": [
    "no_issues2 = (install_150.sum(axis=1) == 0)\n",
    "no_issues2"
   ]
  },
  {
   "cell_type": "code",
   "execution_count": 36,
   "id": "4aa438b2",
   "metadata": {},
   "outputs": [
    {
     "data": {
      "text/plain": [
       "0.552"
      ]
     },
     "execution_count": 36,
     "metadata": {},
     "output_type": "execute_result"
    }
   ],
   "source": [
    "#probability of 150 students \n",
    "no_issues2.mean()"
   ]
  },
  {
   "cell_type": "code",
   "execution_count": 37,
   "id": "aefb8521",
   "metadata": {},
   "outputs": [
    {
     "data": {
      "text/plain": [
       "array([[0, 0, 0, ..., 0, 0, 0],\n",
       "       [0, 0, 0, ..., 0, 0, 1],\n",
       "       [0, 0, 0, ..., 0, 0, 0],\n",
       "       ...,\n",
       "       [0, 0, 0, ..., 0, 0, 0],\n",
       "       [0, 0, 0, ..., 0, 0, 0],\n",
       "       [0, 0, 0, ..., 0, 0, 0]])"
      ]
     },
     "execution_count": 37,
     "metadata": {},
     "output_type": "execute_result"
    }
   ],
   "source": [
    "install_450 = np.random.choice([0,1], size = (10_000 , 450), p = [249/250, 1/250])\n",
    "install_450"
   ]
  },
  {
   "cell_type": "code",
   "execution_count": 39,
   "id": "4145615e",
   "metadata": {},
   "outputs": [
    {
     "data": {
      "text/plain": [
       "array([False, False, False, ..., False,  True, False])"
      ]
     },
     "execution_count": 39,
     "metadata": {},
     "output_type": "execute_result"
    }
   ],
   "source": [
    "no_issues3 = (install_450.sum(axis=1) == 0)\n",
    "no_issues3"
   ]
  },
  {
   "cell_type": "code",
   "execution_count": 40,
   "id": "b4e595e9",
   "metadata": {},
   "outputs": [
    {
     "data": {
      "text/plain": [
       "0.1616"
      ]
     },
     "execution_count": 40,
     "metadata": {},
     "output_type": "execute_result"
    }
   ],
   "source": [
    "# the probability of 450 \n",
    "no_issues3.mean()"
   ]
  },
  {
   "cell_type": "markdown",
   "id": "f7989d5d",
   "metadata": {},
   "source": [
    "There's a 70% chance on any given day that there will be at least one food truck at Travis Park. However, you haven't seen a food truck there in 3 days. How unlikely is this?\n",
    "\n",
    "personal notes - how unlikely is it that we wont see the truck in three days?"
   ]
  },
  {
   "cell_type": "code",
   "execution_count": 41,
   "id": "87fcfd7a",
   "metadata": {},
   "outputs": [
    {
     "data": {
      "text/plain": [
       "array([[1, 0, 1],\n",
       "       [1, 1, 0],\n",
       "       [0, 1, 0],\n",
       "       ...,\n",
       "       [1, 1, 0],\n",
       "       [1, 1, 1],\n",
       "       [0, 0, 1]])"
      ]
     },
     "execution_count": 41,
     "metadata": {},
     "output_type": "execute_result"
    }
   ],
   "source": [
    "n_trials = 3\n",
    "#three days a week that we didnt see the truck \n",
    "n_sims = 10_000\n",
    "\n",
    "#0 = no truck, 1 = truck showed up \n",
    "food_trucks = np.random.choice([0,1], p=[.3,.7], size=(n_sims, n_trials))\n",
    "food_trucks"
   ]
  },
  {
   "cell_type": "code",
   "execution_count": 42,
   "id": "35e9744a",
   "metadata": {},
   "outputs": [
    {
     "data": {
      "text/plain": [
       "array([False, False, False, ..., False, False, False])"
      ]
     },
     "execution_count": 42,
     "metadata": {},
     "output_type": "execute_result"
    }
   ],
   "source": [
    "#in order to measure how unlikely it is to not see the trucks in three days straight the row needs to == 0 \n",
    "#because 0 == no truck \n",
    "\n",
    "no_show_trucks = food_trucks.sum(axis=1) == 0\n",
    "no_show_trucks"
   ]
  },
  {
   "cell_type": "code",
   "execution_count": 43,
   "id": "a7cb8df0",
   "metadata": {},
   "outputs": [
    {
     "data": {
      "text/plain": [
       "0.0277"
      ]
     },
     "execution_count": 43,
     "metadata": {},
     "output_type": "execute_result"
    }
   ],
   "source": [
    "no_show_trucks.mean()"
   ]
  },
  {
   "cell_type": "code",
   "execution_count": 44,
   "id": "2e412dc8",
   "metadata": {},
   "outputs": [],
   "source": [
    "##How likely is it that a food truck will show up sometime this week?"
   ]
  },
  {
   "cell_type": "code",
   "execution_count": 45,
   "id": "2ca1f5fa",
   "metadata": {},
   "outputs": [
    {
     "data": {
      "text/plain": [
       "array([[1, 1, 1, ..., 1, 1, 1],\n",
       "       [0, 1, 1, ..., 0, 1, 1],\n",
       "       [1, 0, 1, ..., 0, 0, 1],\n",
       "       ...,\n",
       "       [1, 1, 1, ..., 1, 0, 0],\n",
       "       [0, 1, 1, ..., 1, 1, 0],\n",
       "       [1, 1, 0, ..., 1, 1, 1]])"
      ]
     },
     "execution_count": 45,
     "metadata": {},
     "output_type": "execute_result"
    }
   ],
   "source": [
    "n_trials = 7\n",
    "#7 days a week \n",
    "n_sims = 10_000\n",
    "\n",
    "food_trucks = np.random.choice([0,1], p=[.3,.7], size=(n_sims, n_trials))\n",
    "food_trucks"
   ]
  },
  {
   "cell_type": "code",
   "execution_count": null,
   "id": "67086a5b",
   "metadata": {},
   "outputs": [],
   "source": [
    "#make it greater than 0 since its only sometime this week and it can equal one or more "
   ]
  },
  {
   "cell_type": "code",
   "execution_count": 46,
   "id": "c0c44fe3",
   "metadata": {},
   "outputs": [],
   "source": [
    "Just_one_day_food_truck = food_trucks.sum(axis=1)>=0"
   ]
  },
  {
   "cell_type": "code",
   "execution_count": 47,
   "id": "a88c1903",
   "metadata": {},
   "outputs": [
    {
     "data": {
      "text/plain": [
       "1.0"
      ]
     },
     "execution_count": 47,
     "metadata": {},
     "output_type": "execute_result"
    }
   ],
   "source": [
    "Just_one_day_food_truck.mean()"
   ]
  },
  {
   "cell_type": "markdown",
   "id": "57c2cbb9",
   "metadata": {},
   "source": [
    "If 23 people are in the same room, what are the odds that two of them share a birthday? What if it's 20 people? 40?\n",
    "\n"
   ]
  },
  {
   "cell_type": "code",
   "execution_count": 49,
   "id": "b582aae8",
   "metadata": {},
   "outputs": [
    {
     "data": {
      "text/plain": [
       "array([[267,  51, 350, ...,  62, 236, 120],\n",
       "       [161, 294,  31, ..., 180,  98,  25],\n",
       "       [ 91, 356, 213, ..., 252,   1, 301],\n",
       "       ...,\n",
       "       [199,   4, 164, ..., 287, 363, 189],\n",
       "       [  7,  87,   8, ..., 200, 278, 143],\n",
       "       [242, 329, 275, ..., 277, 353,  72]])"
      ]
     },
     "execution_count": 49,
     "metadata": {},
     "output_type": "execute_result"
    }
   ],
   "source": [
    "#the range (1, 366) means the birthdays for 365 days in a year \n",
    "\n",
    "\n",
    "birthday = np.random.choice(range(1,366), size = (10000,23))\n",
    "birthday"
   ]
  },
  {
   "cell_type": "code",
   "execution_count": 51,
   "id": "10f30075",
   "metadata": {},
   "outputs": [
    {
     "data": {
      "text/plain": [
       "0       22\n",
       "1       23\n",
       "2       21\n",
       "3       23\n",
       "4       22\n",
       "        ..\n",
       "9995    23\n",
       "9996    23\n",
       "9997    22\n",
       "9998    23\n",
       "9999    22\n",
       "Length: 10000, dtype: int64"
      ]
     },
     "execution_count": 51,
     "metadata": {},
     "output_type": "execute_result"
    }
   ],
   "source": [
    "#remember the .nunique needs to be with a dataframe & this function counts the number of unique instances in the rows \n",
    "pd.DataFrame(birthday).nunique(axis = 1)"
   ]
  },
  {
   "cell_type": "code",
   "execution_count": 52,
   "id": "423e4cbe",
   "metadata": {},
   "outputs": [
    {
     "data": {
      "text/plain": [
       "22.3198"
      ]
     },
     "execution_count": 52,
     "metadata": {},
     "output_type": "execute_result"
    }
   ],
   "source": [
    "pd.DataFrame(birthday).nunique(axis = 1).mean()"
   ]
  },
  {
   "cell_type": "code",
   "execution_count": 53,
   "id": "77168d86",
   "metadata": {},
   "outputs": [
    {
     "data": {
      "text/plain": [
       "0        True\n",
       "1       False\n",
       "2        True\n",
       "3       False\n",
       "4        True\n",
       "        ...  \n",
       "9995    False\n",
       "9996    False\n",
       "9997     True\n",
       "9998    False\n",
       "9999     True\n",
       "Length: 10000, dtype: bool"
      ]
     },
     "execution_count": 53,
     "metadata": {},
     "output_type": "execute_result"
    }
   ],
   "source": [
    "(pd.DataFrame(birthday).nunique(axis = 1) <23)"
   ]
  },
  {
   "cell_type": "code",
   "execution_count": 54,
   "id": "849ee906",
   "metadata": {},
   "outputs": [
    {
     "data": {
      "text/plain": [
       "0.5058"
      ]
     },
     "execution_count": 54,
     "metadata": {},
     "output_type": "execute_result"
    }
   ],
   "source": [
    "#this is for 23 people\n",
    "(pd.DataFrame(birthday).nunique(axis = 1) <23).mean()"
   ]
  },
  {
   "cell_type": "code",
   "execution_count": null,
   "id": "0aecfa34",
   "metadata": {},
   "outputs": [],
   "source": []
  },
  {
   "cell_type": "code",
   "execution_count": 55,
   "id": "4c48b493",
   "metadata": {},
   "outputs": [
    {
     "data": {
      "text/plain": [
       "array([[ 51,  14, 147, ...,  41, 345, 128],\n",
       "       [275,  51, 364, ..., 333,  26,  87],\n",
       "       [208, 280, 185, ..., 218, 118, 220],\n",
       "       ...,\n",
       "       [  3, 161, 183, ..., 216, 344, 365],\n",
       "       [326,  10,  13, ..., 224, 239, 349],\n",
       "       [165, 324,  42, ...,  86,  46,  27]])"
      ]
     },
     "execution_count": 55,
     "metadata": {},
     "output_type": "execute_result"
    }
   ],
   "source": [
    "birthday1 = np.random.choice(range(1,366), size = (10000,20))\n",
    "birthday1"
   ]
  },
  {
   "cell_type": "code",
   "execution_count": 58,
   "id": "fdd0b622",
   "metadata": {},
   "outputs": [
    {
     "data": {
      "text/plain": [
       "0       False\n",
       "1        True\n",
       "2       False\n",
       "3        True\n",
       "4        True\n",
       "        ...  \n",
       "9995    False\n",
       "9996    False\n",
       "9997    False\n",
       "9998    False\n",
       "9999    False\n",
       "Length: 10000, dtype: bool"
      ]
     },
     "execution_count": 58,
     "metadata": {},
     "output_type": "execute_result"
    }
   ],
   "source": [
    "pd.DataFrame(birthday1).nunique(axis=1) < 20\n"
   ]
  },
  {
   "cell_type": "code",
   "execution_count": 59,
   "id": "b4e94726",
   "metadata": {},
   "outputs": [
    {
     "data": {
      "text/plain": [
       "0.4132"
      ]
     },
     "execution_count": 59,
     "metadata": {},
     "output_type": "execute_result"
    }
   ],
   "source": [
    "#this is for 20 people \n",
    "(pd.DataFrame(birthday1).nunique(axis=1) < 20).mean()"
   ]
  },
  {
   "cell_type": "code",
   "execution_count": null,
   "id": "69461bd6",
   "metadata": {},
   "outputs": [],
   "source": []
  },
  {
   "cell_type": "code",
   "execution_count": 60,
   "id": "2312f31b",
   "metadata": {},
   "outputs": [
    {
     "data": {
      "text/plain": [
       "array([[118,  94, 318, ..., 276, 149, 297],\n",
       "       [350, 321, 152, ..., 364, 120,  65],\n",
       "       [ 88,  89, 104, ...,  25, 235, 162],\n",
       "       ...,\n",
       "       [338,  86, 295, ...,  73, 331, 209],\n",
       "       [318,  36, 134, ...,  89, 316,  40],\n",
       "       [205, 233, 282, ...,  51, 310,  90]])"
      ]
     },
     "execution_count": 60,
     "metadata": {},
     "output_type": "execute_result"
    }
   ],
   "source": [
    "birthday2 = np.random.choice(range(1,366), size = (10000,40))\n",
    "birthday2"
   ]
  },
  {
   "cell_type": "code",
   "execution_count": 61,
   "id": "8508ee9a",
   "metadata": {},
   "outputs": [
    {
     "data": {
      "text/plain": [
       "0        True\n",
       "1       False\n",
       "2       False\n",
       "3        True\n",
       "4        True\n",
       "        ...  \n",
       "9995    False\n",
       "9996     True\n",
       "9997     True\n",
       "9998     True\n",
       "9999     True\n",
       "Length: 10000, dtype: bool"
      ]
     },
     "execution_count": 61,
     "metadata": {},
     "output_type": "execute_result"
    }
   ],
   "source": [
    "pd.DataFrame(birthday2).nunique(axis=1)<40"
   ]
  },
  {
   "cell_type": "code",
   "execution_count": 62,
   "id": "b557a413",
   "metadata": {
    "scrolled": true
   },
   "outputs": [
    {
     "data": {
      "text/plain": [
       "0.8903"
      ]
     },
     "execution_count": 62,
     "metadata": {},
     "output_type": "execute_result"
    }
   ],
   "source": [
    "#this is for 40 people \n",
    "(pd.DataFrame(birthday2).nunique(axis=1)<40).mean()"
   ]
  },
  {
   "cell_type": "code",
   "execution_count": null,
   "id": "4138c1ef",
   "metadata": {},
   "outputs": [],
   "source": []
  },
  {
   "cell_type": "markdown",
   "id": "8ef62a00",
   "metadata": {},
   "source": [
    "Madge Duel "
   ]
  },
  {
   "cell_type": "markdown",
   "id": "9fec1d4d",
   "metadata": {},
   "source": [
    "Imagine your wizard has 6d4 health points and you have spells that do 6d4 damage. \"6d4\" means rolling six 4-sided dice and summing the result.\n",
    "\n",
    "Your opposing mage has 4d6 health points and spells that do 4d6. \"4d6\" means rolling four six-sided dice and summing the result."
   ]
  },
  {
   "cell_type": "markdown",
   "id": "13e380c2",
   "metadata": {},
   "source": [
    "Exercises\n",
    "Simulate mage duels to answer who is the more powerful mage?\n",
    "\n"
   ]
  },
  {
   "cell_type": "markdown",
   "id": "5a83103e",
   "metadata": {
    "scrolled": true
   },
   "source": [
    "Before running simulations, do you have a hypothesis of which mage will win? Do you have a hunch? Write it down. This is your first exercise.\n",
    "\n",
    "Im not too sure who will win but i think it might be the opposing mage? maybe because of the more sides the dice has?"
   ]
  },
  {
   "cell_type": "code",
   "execution_count": null,
   "id": "8db4cb7c",
   "metadata": {},
   "outputs": [],
   "source": [
    "#Simulate 10 mage duels. Is there a clear winner? Run that 10 duel simulation again. Was the answer similar?"
   ]
  },
  {
   "cell_type": "code",
   "execution_count": 87,
   "id": "35cecb26",
   "metadata": {},
   "outputs": [
    {
     "data": {
      "text/plain": [
       "167"
      ]
     },
     "execution_count": 87,
     "metadata": {},
     "output_type": "execute_result"
    }
   ],
   "source": [
    "(np.random.choice([1,2,3,4], size = (10 , 6)).sum(axis=1)).sum()"
   ]
  },
  {
   "cell_type": "code",
   "execution_count": 86,
   "id": "4ae35d43",
   "metadata": {},
   "outputs": [
    {
     "data": {
      "text/plain": [
       "152"
      ]
     },
     "execution_count": 86,
     "metadata": {},
     "output_type": "execute_result"
    }
   ],
   "source": [
    "(np.random.choice([1,2,3,4,5,6], size = (10 , 4)).sum(axis=1)).sum()"
   ]
  },
  {
   "cell_type": "code",
   "execution_count": null,
   "id": "ccb310c0",
   "metadata": {},
   "outputs": [],
   "source": [
    "#Do the results change much at 100 duels?"
   ]
  },
  {
   "cell_type": "code",
   "execution_count": 82,
   "id": "03706d9a",
   "metadata": {},
   "outputs": [
    {
     "data": {
      "text/plain": [
       "1518"
      ]
     },
     "execution_count": 82,
     "metadata": {},
     "output_type": "execute_result"
    }
   ],
   "source": [
    "(np.random.choice([1,2,3,4], size = (100 , 6)).sum(axis=1)).sum()"
   ]
  },
  {
   "cell_type": "code",
   "execution_count": 83,
   "id": "0c637d60",
   "metadata": {},
   "outputs": [
    {
     "data": {
      "text/plain": [
       "1331"
      ]
     },
     "execution_count": 83,
     "metadata": {},
     "output_type": "execute_result"
    }
   ],
   "source": [
    "(np.random.choice([1,2,3,4,5,6], size = (100 , 4)).sum(axis=1)).sum()"
   ]
  },
  {
   "cell_type": "code",
   "execution_count": 81,
   "id": "3a20f97a",
   "metadata": {},
   "outputs": [],
   "source": [
    "#Now, simulate 10,000 mage duels. Is there a clear winner?"
   ]
  },
  {
   "cell_type": "code",
   "execution_count": 103,
   "id": "c3ca4bd5",
   "metadata": {},
   "outputs": [
    {
     "data": {
      "text/plain": [
       "149894"
      ]
     },
     "execution_count": 103,
     "metadata": {},
     "output_type": "execute_result"
    }
   ],
   "source": [
    "(np.random.choice([1,2,3,4], size = (10_000 , 6)).sum(axis=1)).sum()"
   ]
  },
  {
   "cell_type": "code",
   "execution_count": 108,
   "id": "b319e4ea",
   "metadata": {},
   "outputs": [
    {
     "data": {
      "text/plain": [
       "139437"
      ]
     },
     "execution_count": 108,
     "metadata": {},
     "output_type": "execute_result"
    }
   ],
   "source": [
    "(np.random.choice([1,2,3,4,5,6], size = (10_000 , 4)).sum(axis=1)).sum()"
   ]
  },
  {
   "cell_type": "code",
   "execution_count": null,
   "id": "32ce33a0",
   "metadata": {},
   "outputs": [],
   "source": [
    "#looks like i am the winner!"
   ]
  }
 ],
 "metadata": {
  "kernelspec": {
   "display_name": "Python 3 (ipykernel)",
   "language": "python",
   "name": "python3"
  },
  "language_info": {
   "codemirror_mode": {
    "name": "ipython",
    "version": 3
   },
   "file_extension": ".py",
   "mimetype": "text/x-python",
   "name": "python",
   "nbconvert_exporter": "python",
   "pygments_lexer": "ipython3",
   "version": "3.9.12"
  }
 },
 "nbformat": 4,
 "nbformat_minor": 5
}
