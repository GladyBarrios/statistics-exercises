{
 "cells": [
  {
   "cell_type": "code",
   "execution_count": 1,
   "id": "62b1cdfb",
   "metadata": {},
   "outputs": [],
   "source": [
    "import numpy as np\n",
    "import pandas as pd"
   ]
  },
  {
   "cell_type": "markdown",
   "id": "b4352ebe",
   "metadata": {},
   "source": [
    "#1 How likely is it that you roll doubles when rolling two dice?"
   ]
  },
  {
   "cell_type": "code",
   "execution_count": 4,
   "id": "ae1303f0",
   "metadata": {},
   "outputs": [
    {
     "data": {
      "text/plain": [
       "array([[6, 4],\n",
       "       [6, 1],\n",
       "       [6, 2],\n",
       "       ...,\n",
       "       [2, 6],\n",
       "       [5, 6],\n",
       "       [2, 5]])"
      ]
     },
     "execution_count": 4,
     "metadata": {},
     "output_type": "execute_result"
    }
   ],
   "source": [
    "n_trials = nrows = 10_000\n",
    "n_dice = ncols = 2\n",
    "#then we need to use random choice\n",
    "\n",
    "rolls = np.random.choice([1, 2, 3, 4, 5, 6], n_trials * n_dice).reshape(nrows, ncols)\n",
    "rolls\n"
   ]
  },
  {
   "cell_type": "code",
   "execution_count": 7,
   "id": "1d6f20c6",
   "metadata": {
    "scrolled": true
   },
   "outputs": [
    {
     "data": {
      "text/html": [
       "<div>\n",
       "<style scoped>\n",
       "    .dataframe tbody tr th:only-of-type {\n",
       "        vertical-align: middle;\n",
       "    }\n",
       "\n",
       "    .dataframe tbody tr th {\n",
       "        vertical-align: top;\n",
       "    }\n",
       "\n",
       "    .dataframe thead th {\n",
       "        text-align: right;\n",
       "    }\n",
       "</style>\n",
       "<table border=\"1\" class=\"dataframe\">\n",
       "  <thead>\n",
       "    <tr style=\"text-align: right;\">\n",
       "      <th></th>\n",
       "      <th>0</th>\n",
       "      <th>1</th>\n",
       "    </tr>\n",
       "  </thead>\n",
       "  <tbody>\n",
       "    <tr>\n",
       "      <th>0</th>\n",
       "      <td>6</td>\n",
       "      <td>4</td>\n",
       "    </tr>\n",
       "    <tr>\n",
       "      <th>1</th>\n",
       "      <td>6</td>\n",
       "      <td>1</td>\n",
       "    </tr>\n",
       "    <tr>\n",
       "      <th>2</th>\n",
       "      <td>6</td>\n",
       "      <td>2</td>\n",
       "    </tr>\n",
       "    <tr>\n",
       "      <th>3</th>\n",
       "      <td>6</td>\n",
       "      <td>2</td>\n",
       "    </tr>\n",
       "    <tr>\n",
       "      <th>4</th>\n",
       "      <td>4</td>\n",
       "      <td>2</td>\n",
       "    </tr>\n",
       "    <tr>\n",
       "      <th>...</th>\n",
       "      <td>...</td>\n",
       "      <td>...</td>\n",
       "    </tr>\n",
       "    <tr>\n",
       "      <th>9995</th>\n",
       "      <td>1</td>\n",
       "      <td>4</td>\n",
       "    </tr>\n",
       "    <tr>\n",
       "      <th>9996</th>\n",
       "      <td>1</td>\n",
       "      <td>4</td>\n",
       "    </tr>\n",
       "    <tr>\n",
       "      <th>9997</th>\n",
       "      <td>2</td>\n",
       "      <td>6</td>\n",
       "    </tr>\n",
       "    <tr>\n",
       "      <th>9998</th>\n",
       "      <td>5</td>\n",
       "      <td>6</td>\n",
       "    </tr>\n",
       "    <tr>\n",
       "      <th>9999</th>\n",
       "      <td>2</td>\n",
       "      <td>5</td>\n",
       "    </tr>\n",
       "  </tbody>\n",
       "</table>\n",
       "<p>10000 rows × 2 columns</p>\n",
       "</div>"
      ],
      "text/plain": [
       "      0  1\n",
       "0     6  4\n",
       "1     6  1\n",
       "2     6  2\n",
       "3     6  2\n",
       "4     4  2\n",
       "...  .. ..\n",
       "9995  1  4\n",
       "9996  1  4\n",
       "9997  2  6\n",
       "9998  5  6\n",
       "9999  2  5\n",
       "\n",
       "[10000 rows x 2 columns]"
      ]
     },
     "execution_count": 7,
     "metadata": {},
     "output_type": "execute_result"
    }
   ],
   "source": [
    "dice_rolls_2 = pd.DataFrame(rolls)\n",
    "dice_rolls_2"
   ]
  },
  {
   "cell_type": "code",
   "execution_count": 10,
   "id": "26823179",
   "metadata": {},
   "outputs": [
    {
     "data": {
      "text/plain": [
       "0       False\n",
       "1       False\n",
       "2       False\n",
       "3       False\n",
       "4       False\n",
       "        ...  \n",
       "9995    False\n",
       "9996    False\n",
       "9997    False\n",
       "9998    False\n",
       "9999    False\n",
       "Length: 10000, dtype: bool"
      ]
     },
     "execution_count": 10,
     "metadata": {},
     "output_type": "execute_result"
    }
   ],
   "source": [
    "doubles = dice_rolls_2[0] == dice_rolls_2[1]\n",
    "doubles"
   ]
  },
  {
   "cell_type": "code",
   "execution_count": 12,
   "id": "50733c88",
   "metadata": {},
   "outputs": [
    {
     "data": {
      "text/plain": [
       "0.1692"
      ]
     },
     "execution_count": 12,
     "metadata": {},
     "output_type": "execute_result"
    }
   ],
   "source": [
    "prob_doubles = doubles.mean()\n",
    "prob_doubles"
   ]
  },
  {
   "cell_type": "code",
   "execution_count": null,
   "id": "eecfbdc7",
   "metadata": {},
   "outputs": [],
   "source": []
  },
  {
   "cell_type": "markdown",
   "id": "ce1b868b",
   "metadata": {},
   "source": [
    "#2 If you flip 8 coins, what is the probability of getting exactly 3 heads? What is the probability of getting more than 3 heads?"
   ]
  },
  {
   "cell_type": "code",
   "execution_count": 16,
   "id": "20907057",
   "metadata": {},
   "outputs": [
    {
     "data": {
      "text/plain": [
       "array([[1, 1, 2, ..., 1, 2, 1],\n",
       "       [1, 2, 2, ..., 1, 1, 2],\n",
       "       [2, 2, 2, ..., 1, 2, 1],\n",
       "       ...,\n",
       "       [2, 1, 2, ..., 2, 2, 1],\n",
       "       [2, 1, 2, ..., 2, 1, 2],\n",
       "       [2, 2, 1, ..., 2, 1, 2]])"
      ]
     },
     "execution_count": 16,
     "metadata": {},
     "output_type": "execute_result"
    }
   ],
   "source": [
    "n_trials = 8\n",
    "n_sims = 10000\n",
    "#im making 1 to be head and 2 tails#\n",
    "flips = np.random.choice([1,2], n_trials * n_sims).reshape(n_sims, n_trials)\n",
    "flips"
   ]
  },
  {
   "cell_type": "code",
   "execution_count": 19,
   "id": "a96e2cd2",
   "metadata": {},
   "outputs": [
    {
     "data": {
      "text/html": [
       "<div>\n",
       "<style scoped>\n",
       "    .dataframe tbody tr th:only-of-type {\n",
       "        vertical-align: middle;\n",
       "    }\n",
       "\n",
       "    .dataframe tbody tr th {\n",
       "        vertical-align: top;\n",
       "    }\n",
       "\n",
       "    .dataframe thead th {\n",
       "        text-align: right;\n",
       "    }\n",
       "</style>\n",
       "<table border=\"1\" class=\"dataframe\">\n",
       "  <thead>\n",
       "    <tr style=\"text-align: right;\">\n",
       "      <th></th>\n",
       "      <th>0</th>\n",
       "      <th>1</th>\n",
       "      <th>2</th>\n",
       "      <th>3</th>\n",
       "      <th>4</th>\n",
       "      <th>5</th>\n",
       "      <th>6</th>\n",
       "      <th>7</th>\n",
       "    </tr>\n",
       "  </thead>\n",
       "  <tbody>\n",
       "    <tr>\n",
       "      <th>0</th>\n",
       "      <td>1</td>\n",
       "      <td>1</td>\n",
       "      <td>2</td>\n",
       "      <td>2</td>\n",
       "      <td>2</td>\n",
       "      <td>1</td>\n",
       "      <td>2</td>\n",
       "      <td>1</td>\n",
       "    </tr>\n",
       "    <tr>\n",
       "      <th>1</th>\n",
       "      <td>1</td>\n",
       "      <td>2</td>\n",
       "      <td>2</td>\n",
       "      <td>1</td>\n",
       "      <td>2</td>\n",
       "      <td>1</td>\n",
       "      <td>1</td>\n",
       "      <td>2</td>\n",
       "    </tr>\n",
       "    <tr>\n",
       "      <th>2</th>\n",
       "      <td>2</td>\n",
       "      <td>2</td>\n",
       "      <td>2</td>\n",
       "      <td>2</td>\n",
       "      <td>1</td>\n",
       "      <td>1</td>\n",
       "      <td>2</td>\n",
       "      <td>1</td>\n",
       "    </tr>\n",
       "    <tr>\n",
       "      <th>3</th>\n",
       "      <td>1</td>\n",
       "      <td>2</td>\n",
       "      <td>2</td>\n",
       "      <td>2</td>\n",
       "      <td>1</td>\n",
       "      <td>2</td>\n",
       "      <td>1</td>\n",
       "      <td>2</td>\n",
       "    </tr>\n",
       "    <tr>\n",
       "      <th>4</th>\n",
       "      <td>1</td>\n",
       "      <td>2</td>\n",
       "      <td>2</td>\n",
       "      <td>2</td>\n",
       "      <td>1</td>\n",
       "      <td>2</td>\n",
       "      <td>1</td>\n",
       "      <td>2</td>\n",
       "    </tr>\n",
       "    <tr>\n",
       "      <th>...</th>\n",
       "      <td>...</td>\n",
       "      <td>...</td>\n",
       "      <td>...</td>\n",
       "      <td>...</td>\n",
       "      <td>...</td>\n",
       "      <td>...</td>\n",
       "      <td>...</td>\n",
       "      <td>...</td>\n",
       "    </tr>\n",
       "    <tr>\n",
       "      <th>9995</th>\n",
       "      <td>1</td>\n",
       "      <td>2</td>\n",
       "      <td>2</td>\n",
       "      <td>1</td>\n",
       "      <td>1</td>\n",
       "      <td>2</td>\n",
       "      <td>2</td>\n",
       "      <td>1</td>\n",
       "    </tr>\n",
       "    <tr>\n",
       "      <th>9996</th>\n",
       "      <td>2</td>\n",
       "      <td>1</td>\n",
       "      <td>2</td>\n",
       "      <td>2</td>\n",
       "      <td>2</td>\n",
       "      <td>2</td>\n",
       "      <td>2</td>\n",
       "      <td>2</td>\n",
       "    </tr>\n",
       "    <tr>\n",
       "      <th>9997</th>\n",
       "      <td>2</td>\n",
       "      <td>1</td>\n",
       "      <td>2</td>\n",
       "      <td>2</td>\n",
       "      <td>2</td>\n",
       "      <td>2</td>\n",
       "      <td>2</td>\n",
       "      <td>1</td>\n",
       "    </tr>\n",
       "    <tr>\n",
       "      <th>9998</th>\n",
       "      <td>2</td>\n",
       "      <td>1</td>\n",
       "      <td>2</td>\n",
       "      <td>2</td>\n",
       "      <td>1</td>\n",
       "      <td>2</td>\n",
       "      <td>1</td>\n",
       "      <td>2</td>\n",
       "    </tr>\n",
       "    <tr>\n",
       "      <th>9999</th>\n",
       "      <td>2</td>\n",
       "      <td>2</td>\n",
       "      <td>1</td>\n",
       "      <td>2</td>\n",
       "      <td>2</td>\n",
       "      <td>2</td>\n",
       "      <td>1</td>\n",
       "      <td>2</td>\n",
       "    </tr>\n",
       "  </tbody>\n",
       "</table>\n",
       "<p>10000 rows × 8 columns</p>\n",
       "</div>"
      ],
      "text/plain": [
       "      0  1  2  3  4  5  6  7\n",
       "0     1  1  2  2  2  1  2  1\n",
       "1     1  2  2  1  2  1  1  2\n",
       "2     2  2  2  2  1  1  2  1\n",
       "3     1  2  2  2  1  2  1  2\n",
       "4     1  2  2  2  1  2  1  2\n",
       "...  .. .. .. .. .. .. .. ..\n",
       "9995  1  2  2  1  1  2  2  1\n",
       "9996  2  1  2  2  2  2  2  2\n",
       "9997  2  1  2  2  2  2  2  1\n",
       "9998  2  1  2  2  1  2  1  2\n",
       "9999  2  2  1  2  2  2  1  2\n",
       "\n",
       "[10000 rows x 8 columns]"
      ]
     },
     "execution_count": 19,
     "metadata": {},
     "output_type": "execute_result"
    }
   ],
   "source": [
    "flips2=pd.DataFrame(flips)\n",
    "flips2"
   ]
  },
  {
   "cell_type": "code",
   "execution_count": 29,
   "id": "e5687bfb",
   "metadata": {},
   "outputs": [
    {
     "data": {
      "text/plain": [
       "array([False, False,  True, ..., False,  True, False])"
      ]
     },
     "execution_count": 29,
     "metadata": {},
     "output_type": "execute_result"
    }
   ],
   "source": [
    "same_3_flips = (flips == 1).sum(axis=1) == 3\n",
    "same_3_flips"
   ]
  },
  {
   "cell_type": "code",
   "execution_count": 30,
   "id": "ca088c49",
   "metadata": {},
   "outputs": [
    {
     "data": {
      "text/plain": [
       "0.221"
      ]
     },
     "execution_count": 30,
     "metadata": {},
     "output_type": "execute_result"
    }
   ],
   "source": [
    "same_3_flips.mean()"
   ]
  },
  {
   "cell_type": "code",
   "execution_count": 32,
   "id": "9b6fec77",
   "metadata": {},
   "outputs": [
    {
     "data": {
      "text/plain": [
       "array([ True,  True, False, ..., False, False, False])"
      ]
     },
     "execution_count": 32,
     "metadata": {},
     "output_type": "execute_result"
    }
   ],
   "source": [
    "greater_than_3 = (flips == 1).sum(axis=1) >3\n",
    "greater_than_3"
   ]
  },
  {
   "cell_type": "code",
   "execution_count": 33,
   "id": "e18e8137",
   "metadata": {},
   "outputs": [
    {
     "data": {
      "text/plain": [
       "0.6384"
      ]
     },
     "execution_count": 33,
     "metadata": {},
     "output_type": "execute_result"
    }
   ],
   "source": [
    "greater_than_3.mean()"
   ]
  },
  {
   "cell_type": "markdown",
   "id": "92d45ffe",
   "metadata": {},
   "source": [
    "There are approximitely 3 web development cohorts for every 1 data science cohort at Codeup.\n",
    "\n",
    "Assuming that Codeup randomly selects an alumni to put on a billboard, what are the odds that the two billboards \n",
    "\n",
    "I drive past both have data science students on them?"
   ]
  },
  {
   "cell_type": "code",
   "execution_count": 37,
   "id": "2b7052cc",
   "metadata": {},
   "outputs": [
    {
     "data": {
      "text/plain": [
       "array([['web_dev', 'web_dev'],\n",
       "       ['Data_science', 'web_dev'],\n",
       "       ['web_dev', 'web_dev'],\n",
       "       ...,\n",
       "       ['Data_science', 'web_dev'],\n",
       "       ['Data_science', 'Data_science'],\n",
       "       ['Data_science', 'Data_science']], dtype='<U12')"
      ]
     },
     "execution_count": 37,
     "metadata": {},
     "output_type": "execute_result"
    }
   ],
   "source": [
    "n_trials = 2\n",
    "n_sims = 10_000\n",
    "\n",
    "billboard = np.random.choice(['web_dev', 'Data_science'],n_trials * n_sims).reshape(n_sims, n_trials)\n",
    "billboard"
   ]
  },
  {
   "cell_type": "code",
   "execution_count": 42,
   "id": "05c0ef9f",
   "metadata": {},
   "outputs": [
    {
     "data": {
      "text/html": [
       "<div>\n",
       "<style scoped>\n",
       "    .dataframe tbody tr th:only-of-type {\n",
       "        vertical-align: middle;\n",
       "    }\n",
       "\n",
       "    .dataframe tbody tr th {\n",
       "        vertical-align: top;\n",
       "    }\n",
       "\n",
       "    .dataframe thead th {\n",
       "        text-align: right;\n",
       "    }\n",
       "</style>\n",
       "<table border=\"1\" class=\"dataframe\">\n",
       "  <thead>\n",
       "    <tr style=\"text-align: right;\">\n",
       "      <th></th>\n",
       "      <th>first_billb</th>\n",
       "      <th>second_billb</th>\n",
       "    </tr>\n",
       "  </thead>\n",
       "  <tbody>\n",
       "    <tr>\n",
       "      <th>0</th>\n",
       "      <td>web_dev</td>\n",
       "      <td>web_dev</td>\n",
       "    </tr>\n",
       "    <tr>\n",
       "      <th>1</th>\n",
       "      <td>Data_science</td>\n",
       "      <td>web_dev</td>\n",
       "    </tr>\n",
       "    <tr>\n",
       "      <th>2</th>\n",
       "      <td>web_dev</td>\n",
       "      <td>web_dev</td>\n",
       "    </tr>\n",
       "    <tr>\n",
       "      <th>3</th>\n",
       "      <td>web_dev</td>\n",
       "      <td>Data_science</td>\n",
       "    </tr>\n",
       "    <tr>\n",
       "      <th>4</th>\n",
       "      <td>web_dev</td>\n",
       "      <td>web_dev</td>\n",
       "    </tr>\n",
       "    <tr>\n",
       "      <th>...</th>\n",
       "      <td>...</td>\n",
       "      <td>...</td>\n",
       "    </tr>\n",
       "    <tr>\n",
       "      <th>9995</th>\n",
       "      <td>web_dev</td>\n",
       "      <td>web_dev</td>\n",
       "    </tr>\n",
       "    <tr>\n",
       "      <th>9996</th>\n",
       "      <td>web_dev</td>\n",
       "      <td>web_dev</td>\n",
       "    </tr>\n",
       "    <tr>\n",
       "      <th>9997</th>\n",
       "      <td>Data_science</td>\n",
       "      <td>web_dev</td>\n",
       "    </tr>\n",
       "    <tr>\n",
       "      <th>9998</th>\n",
       "      <td>Data_science</td>\n",
       "      <td>Data_science</td>\n",
       "    </tr>\n",
       "    <tr>\n",
       "      <th>9999</th>\n",
       "      <td>Data_science</td>\n",
       "      <td>Data_science</td>\n",
       "    </tr>\n",
       "  </tbody>\n",
       "</table>\n",
       "<p>10000 rows × 2 columns</p>\n",
       "</div>"
      ],
      "text/plain": [
       "       first_billb  second_billb\n",
       "0          web_dev       web_dev\n",
       "1     Data_science       web_dev\n",
       "2          web_dev       web_dev\n",
       "3          web_dev  Data_science\n",
       "4          web_dev       web_dev\n",
       "...            ...           ...\n",
       "9995       web_dev       web_dev\n",
       "9996       web_dev       web_dev\n",
       "9997  Data_science       web_dev\n",
       "9998  Data_science  Data_science\n",
       "9999  Data_science  Data_science\n",
       "\n",
       "[10000 rows x 2 columns]"
      ]
     },
     "execution_count": 42,
     "metadata": {},
     "output_type": "execute_result"
    }
   ],
   "source": [
    "billboard2 = pd.DataFrame(billboard)\n",
    "billboard2.columns = [\"first_billb\", \"second_billb\"]\n",
    "billboard2"
   ]
  },
  {
   "cell_type": "code",
   "execution_count": 44,
   "id": "5a379722",
   "metadata": {},
   "outputs": [
    {
     "data": {
      "text/plain": [
       "0       False\n",
       "1       False\n",
       "2       False\n",
       "3       False\n",
       "4       False\n",
       "        ...  \n",
       "9995    False\n",
       "9996    False\n",
       "9997    False\n",
       "9998     True\n",
       "9999     True\n",
       "Length: 10000, dtype: bool"
      ]
     },
     "execution_count": 44,
     "metadata": {},
     "output_type": "execute_result"
    }
   ],
   "source": [
    "both_data_sci = (billboard2.first_billb == 'Data_science') & (billboard2.second_billb == 'Data_science')\n",
    "both_data_sci"
   ]
  },
  {
   "cell_type": "code",
   "execution_count": 45,
   "id": "27bf0e6c",
   "metadata": {},
   "outputs": [
    {
     "data": {
      "text/plain": [
       "0.2419"
      ]
     },
     "execution_count": 45,
     "metadata": {},
     "output_type": "execute_result"
    }
   ],
   "source": [
    "both_data_sci.mean()"
   ]
  },
  {
   "cell_type": "markdown",
   "id": "0a50830c",
   "metadata": {},
   "source": [
    "Codeup students buy, on average, 3 poptart packages with a standard deviation of 1.5 a day from the snack vending machine. If on monday the machine is restocked with 17 poptart packages, how likely is it that I will be able to buy some poptarts on Friday afternoon? (Remember, if you have mean and standard deviation, use the np.random.normal) You'll need to make a judgement call on how to handle some of your values"
   ]
  },
  {
   "cell_type": "code",
   "execution_count": 53,
   "id": "2fb03c00",
   "metadata": {},
   "outputs": [
    {
     "data": {
      "text/plain": [
       "array([[ 4.,  5.,  2.,  3.,  2.],\n",
       "       [ 2.,  2.,  2.,  3.,  4.],\n",
       "       [ 7.,  3.,  3.,  4.,  4.],\n",
       "       ...,\n",
       "       [ 3.,  3.,  5.,  1.,  5.],\n",
       "       [ 2.,  3.,  3.,  0.,  6.],\n",
       "       [ 3.,  3.,  2.,  5., -0.]])"
      ]
     },
     "execution_count": 53,
     "metadata": {},
     "output_type": "execute_result"
    }
   ],
   "source": [
    "n_trials = 5 #becasue of a reg. school week is 5 days \n",
    "n_sims = 10_000\n",
    "\n",
    "\n",
    "poptarts = np.random.normal(3,1.5, size = (n_sims, n_trials))\n",
    "rounded_pop = poptarts.round()\n",
    "rounded_pop"
   ]
  },
  {
   "cell_type": "code",
   "execution_count": 55,
   "id": "32463a9c",
   "metadata": {},
   "outputs": [
    {
     "data": {
      "text/plain": [
       "0.6724"
      ]
     },
     "execution_count": 55,
     "metadata": {},
     "output_type": "execute_result"
    }
   ],
   "source": [
    "poptarts_on_friday = rounded_pop.sum(axis=1) < 17\n",
    "poptarts_on_friday.mean()"
   ]
  },
  {
   "cell_type": "code",
   "execution_count": null,
   "id": "d5558e73",
   "metadata": {},
   "outputs": [],
   "source": [
    "#Compare Heights"
   ]
  },
  {
   "cell_type": "markdown",
   "id": "4124fc5c",
   "metadata": {},
   "source": [
    "a)Men have an average height of 178 cm and standard deviation of 8cm.\n",
    "\n",
    "b)Women have a mean of 170, sd = 6cm.\n",
    "\n",
    "c)Since you have means and standard deviations, you can use np.random.normal to generate observations.\n",
    "If a man and woman are chosen at random, what is the likelihood the woman is taller than the man?"
   ]
  },
  {
   "cell_type": "code",
   "execution_count": 57,
   "id": "e41c8575",
   "metadata": {},
   "outputs": [
    {
     "data": {
      "text/plain": [
       "array([174.84730314, 171.90699681, 195.13968114, ..., 192.16688495,\n",
       "       183.4867623 , 175.10958457])"
      ]
     },
     "execution_count": 57,
     "metadata": {},
     "output_type": "execute_result"
    }
   ],
   "source": [
    "\n",
    "men = np.random.normal(178,8, size = 10_000)\n",
    "men"
   ]
  },
  {
   "cell_type": "code",
   "execution_count": 59,
   "id": "f5d416e7",
   "metadata": {},
   "outputs": [
    {
     "data": {
      "text/plain": [
       "array([171.59503446, 169.21912872, 168.6926626 , ..., 162.06503058,\n",
       "       169.82950326, 175.65341677])"
      ]
     },
     "execution_count": 59,
     "metadata": {},
     "output_type": "execute_result"
    }
   ],
   "source": [
    "Women = np.random.normal(170,6, size = 10_000)\n",
    "Women"
   ]
  },
  {
   "cell_type": "code",
   "execution_count": 67,
   "id": "e7498117",
   "metadata": {},
   "outputs": [
    {
     "data": {
      "text/html": [
       "<div>\n",
       "<style scoped>\n",
       "    .dataframe tbody tr th:only-of-type {\n",
       "        vertical-align: middle;\n",
       "    }\n",
       "\n",
       "    .dataframe tbody tr th {\n",
       "        vertical-align: top;\n",
       "    }\n",
       "\n",
       "    .dataframe thead th {\n",
       "        text-align: right;\n",
       "    }\n",
       "</style>\n",
       "<table border=\"1\" class=\"dataframe\">\n",
       "  <thead>\n",
       "    <tr style=\"text-align: right;\">\n",
       "      <th></th>\n",
       "      <th>men_avg</th>\n",
       "      <th>Women_avg</th>\n",
       "    </tr>\n",
       "  </thead>\n",
       "  <tbody>\n",
       "    <tr>\n",
       "      <th>0</th>\n",
       "      <td>174.847303</td>\n",
       "      <td>171.595034</td>\n",
       "    </tr>\n",
       "    <tr>\n",
       "      <th>1</th>\n",
       "      <td>171.906997</td>\n",
       "      <td>169.219129</td>\n",
       "    </tr>\n",
       "    <tr>\n",
       "      <th>2</th>\n",
       "      <td>195.139681</td>\n",
       "      <td>168.692663</td>\n",
       "    </tr>\n",
       "    <tr>\n",
       "      <th>3</th>\n",
       "      <td>161.050288</td>\n",
       "      <td>172.264541</td>\n",
       "    </tr>\n",
       "    <tr>\n",
       "      <th>4</th>\n",
       "      <td>172.831480</td>\n",
       "      <td>165.782677</td>\n",
       "    </tr>\n",
       "    <tr>\n",
       "      <th>...</th>\n",
       "      <td>...</td>\n",
       "      <td>...</td>\n",
       "    </tr>\n",
       "    <tr>\n",
       "      <th>9995</th>\n",
       "      <td>175.594585</td>\n",
       "      <td>167.516173</td>\n",
       "    </tr>\n",
       "    <tr>\n",
       "      <th>9996</th>\n",
       "      <td>173.691937</td>\n",
       "      <td>163.122980</td>\n",
       "    </tr>\n",
       "    <tr>\n",
       "      <th>9997</th>\n",
       "      <td>192.166885</td>\n",
       "      <td>162.065031</td>\n",
       "    </tr>\n",
       "    <tr>\n",
       "      <th>9998</th>\n",
       "      <td>183.486762</td>\n",
       "      <td>169.829503</td>\n",
       "    </tr>\n",
       "    <tr>\n",
       "      <th>9999</th>\n",
       "      <td>175.109585</td>\n",
       "      <td>175.653417</td>\n",
       "    </tr>\n",
       "  </tbody>\n",
       "</table>\n",
       "<p>10000 rows × 2 columns</p>\n",
       "</div>"
      ],
      "text/plain": [
       "         men_avg   Women_avg\n",
       "0     174.847303  171.595034\n",
       "1     171.906997  169.219129\n",
       "2     195.139681  168.692663\n",
       "3     161.050288  172.264541\n",
       "4     172.831480  165.782677\n",
       "...          ...         ...\n",
       "9995  175.594585  167.516173\n",
       "9996  173.691937  163.122980\n",
       "9997  192.166885  162.065031\n",
       "9998  183.486762  169.829503\n",
       "9999  175.109585  175.653417\n",
       "\n",
       "[10000 rows x 2 columns]"
      ]
     },
     "execution_count": 67,
     "metadata": {},
     "output_type": "execute_result"
    }
   ],
   "source": [
    "Overall_height = pd.DataFrame({\"men_avg\":men, \"Women_avg\":Women})\n",
    "Overall_height"
   ]
  },
  {
   "cell_type": "code",
   "execution_count": 69,
   "id": "c43e5b54",
   "metadata": {},
   "outputs": [
    {
     "data": {
      "text/plain": [
       "0       False\n",
       "1       False\n",
       "2       False\n",
       "3        True\n",
       "4       False\n",
       "        ...  \n",
       "9995    False\n",
       "9996    False\n",
       "9997    False\n",
       "9998    False\n",
       "9999     True\n",
       "Length: 10000, dtype: bool"
      ]
     },
     "execution_count": 69,
     "metadata": {},
     "output_type": "execute_result"
    }
   ],
   "source": [
    "Height_women_taller = Overall_height.Women_avg > Overall_height.men_avg\n",
    "\n",
    "Height_women_taller"
   ]
  },
  {
   "cell_type": "code",
   "execution_count": 70,
   "id": "ff16f7ff",
   "metadata": {},
   "outputs": [
    {
     "data": {
      "text/plain": [
       "0.2108"
      ]
     },
     "execution_count": 70,
     "metadata": {},
     "output_type": "execute_result"
    }
   ],
   "source": [
    "Height_women_taller.mean()"
   ]
  },
  {
   "cell_type": "markdown",
   "id": "9c22a8a3",
   "metadata": {},
   "source": [
    "When installing anaconda on a student's computer, there's a 1 in 250 chance that the download is corrupted and the installation fails. What are the odds that after having 50 students download anaconda, no one has an installation issue? 100 students?\n",
    " \n",
    " \n",
    "What is the probability that we observe an installation issue within the first 150 students that download anaconda?\n",
    "\n",
    "\n",
    "\n",
    "How likely is it that 450 students all download anaconda without an issue?"
   ]
  },
  {
   "cell_type": "code",
   "execution_count": null,
   "id": "7fa67aad",
   "metadata": {},
   "outputs": [],
   "source": []
  },
  {
   "cell_type": "code",
   "execution_count": null,
   "id": "6c05e41a",
   "metadata": {},
   "outputs": [],
   "source": []
  },
  {
   "cell_type": "markdown",
   "id": "f7989d5d",
   "metadata": {},
   "source": [
    "There's a 70% chance on any given day that there will be at least one food truck at Travis Park. However, you haven't seen a food truck there in 3 days. How unlikely is this?\n",
    "\n",
    "How likely is it that a food truck will show up sometime this week?"
   ]
  },
  {
   "cell_type": "code",
   "execution_count": 73,
   "id": "87fcfd7a",
   "metadata": {},
   "outputs": [
    {
     "data": {
      "text/plain": [
       "array([[1, 0, 0],\n",
       "       [1, 1, 0],\n",
       "       [0, 1, 1],\n",
       "       ...,\n",
       "       [1, 1, 1],\n",
       "       [0, 1, 1],\n",
       "       [1, 0, 1]])"
      ]
     },
     "execution_count": 73,
     "metadata": {},
     "output_type": "execute_result"
    }
   ],
   "source": [
    "n_trials = 3\n",
    "#three days a week that we didnt see the truck \n",
    "n_sims = 10_000\n",
    "\n",
    "food_trucks = np.random.choice([0,1], p=[.3,.7], size=(n_sims, n_trials))\n",
    "food_trucks"
   ]
  },
  {
   "cell_type": "code",
   "execution_count": 77,
   "id": "35e9744a",
   "metadata": {},
   "outputs": [
    {
     "data": {
      "text/plain": [
       "array([False, False, False, ..., False, False, False])"
      ]
     },
     "execution_count": 77,
     "metadata": {},
     "output_type": "execute_result"
    }
   ],
   "source": [
    "no_show_trucks = food_trucks.sum(axis=1) == 0\n",
    "no_show_trucks"
   ]
  },
  {
   "cell_type": "code",
   "execution_count": 78,
   "id": "a7cb8df0",
   "metadata": {},
   "outputs": [
    {
     "data": {
      "text/plain": [
       "0.0276"
      ]
     },
     "execution_count": 78,
     "metadata": {},
     "output_type": "execute_result"
    }
   ],
   "source": [
    "no_show_trucks.mean()"
   ]
  },
  {
   "cell_type": "code",
   "execution_count": null,
   "id": "2e412dc8",
   "metadata": {},
   "outputs": [],
   "source": [
    "##How likely is it that a food truck will show up sometime this week?"
   ]
  },
  {
   "cell_type": "code",
   "execution_count": 79,
   "id": "2ca1f5fa",
   "metadata": {},
   "outputs": [
    {
     "data": {
      "text/plain": [
       "array([[1, 1, 1, ..., 1, 0, 1],\n",
       "       [1, 0, 0, ..., 1, 1, 1],\n",
       "       [1, 1, 1, ..., 1, 1, 1],\n",
       "       ...,\n",
       "       [0, 0, 1, ..., 1, 1, 1],\n",
       "       [0, 1, 1, ..., 1, 1, 1],\n",
       "       [1, 0, 1, ..., 1, 1, 0]])"
      ]
     },
     "execution_count": 79,
     "metadata": {},
     "output_type": "execute_result"
    }
   ],
   "source": [
    "n_trials = 7\n",
    "#7 days a week \n",
    "n_sims = 10_000\n",
    "\n",
    "food_trucks = np.random.choice([0,1], p=[.3,.7], size=(n_sims, n_trials))\n",
    "food_trucks"
   ]
  },
  {
   "cell_type": "code",
   "execution_count": null,
   "id": "67086a5b",
   "metadata": {},
   "outputs": [],
   "source": [
    "#make it greater than 0 since its only sometime this week "
   ]
  },
  {
   "cell_type": "code",
   "execution_count": 82,
   "id": "c0c44fe3",
   "metadata": {},
   "outputs": [],
   "source": [
    "Just_one_day_food_truck = food_trucks.sum(axis=1)>0"
   ]
  },
  {
   "cell_type": "code",
   "execution_count": 83,
   "id": "a88c1903",
   "metadata": {},
   "outputs": [
    {
     "data": {
      "text/plain": [
       "0.9999"
      ]
     },
     "execution_count": 83,
     "metadata": {},
     "output_type": "execute_result"
    }
   ],
   "source": [
    "Just_one_day_food_truck.mean()"
   ]
  },
  {
   "cell_type": "markdown",
   "id": "57c2cbb9",
   "metadata": {},
   "source": [
    "If 23 people are in the same room, what are the odds that two of them share a birthday? What if it's 20 people? 40?\n",
    "\n",
    "#two have the same BIRTHDAY, the size must be eaither the 23 or the other numbers im assuming "
   ]
  },
  {
   "cell_type": "code",
   "execution_count": null,
   "id": "b582aae8",
   "metadata": {},
   "outputs": [],
   "source": []
  },
  {
   "cell_type": "code",
   "execution_count": null,
   "id": "10f30075",
   "metadata": {},
   "outputs": [],
   "source": []
  }
 ],
 "metadata": {
  "kernelspec": {
   "display_name": "Python 3 (ipykernel)",
   "language": "python",
   "name": "python3"
  },
  "language_info": {
   "codemirror_mode": {
    "name": "ipython",
    "version": 3
   },
   "file_extension": ".py",
   "mimetype": "text/x-python",
   "name": "python",
   "nbconvert_exporter": "python",
   "pygments_lexer": "ipython3",
   "version": "3.9.12"
  }
 },
 "nbformat": 4,
 "nbformat_minor": 5
}
